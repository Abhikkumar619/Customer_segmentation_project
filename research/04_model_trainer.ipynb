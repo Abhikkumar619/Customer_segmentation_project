{
 "cells": [
  {
   "cell_type": "code",
   "execution_count": 1,
   "metadata": {},
   "outputs": [],
   "source": [
    "import os\n",
    "os.chdir(\"../\")"
   ]
  },
  {
   "cell_type": "code",
   "execution_count": 2,
   "metadata": {},
   "outputs": [
    {
     "data": {
      "text/plain": [
       "'/Users/abishekkumaryadav/DataScience/Machine_learning/Customer_segmentation_project'"
      ]
     },
     "execution_count": 2,
     "metadata": {},
     "output_type": "execute_result"
    }
   ],
   "source": [
    "os.getcwd()"
   ]
  },
  {
   "cell_type": "code",
   "execution_count": 3,
   "metadata": {},
   "outputs": [],
   "source": [
    "os.chdir('/Users/abishekkumaryadav/DataScience/Machine_learning/Customer_segmentation_project')"
   ]
  },
  {
   "cell_type": "code",
   "execution_count": 4,
   "metadata": {},
   "outputs": [],
   "source": [
    "from dataclasses import dataclass\n",
    "from pathlib import Path"
   ]
  },
  {
   "cell_type": "code",
   "execution_count": 5,
   "metadata": {},
   "outputs": [],
   "source": [
    "@dataclass(frozen=True)\n",
    "class ModelTrainerConfig:\n",
    "    root_dir: Path\n",
    "    train_data: Path\n",
    "    test_data: Path\n",
    "    best_model_path: Path  \n",
    "    train_not_scaled: Path\n",
    "    test_not_scaled: Path  \n",
    "    dim_red_model: Path"
   ]
  },
  {
   "cell_type": "code",
   "execution_count": 6,
   "metadata": {},
   "outputs": [],
   "source": [
    "from src.Customer_segementation.constant import *\n",
    "from src.Customer_segementation.utils.common import read_yaml, create_directories"
   ]
  },
  {
   "cell_type": "code",
   "execution_count": 7,
   "metadata": {},
   "outputs": [],
   "source": [
    "class configurationManager: \n",
    "    def __init__(self,config_file_path=CONFIG_FILE_PATH,\n",
    "                 schema_file_path=SCHEMA_FILE_PATH,\n",
    "                 params_file_path=PARAMS_FILE_PATH):\n",
    "        self.config=read_yaml(config_file_path)\n",
    "        self.schema=read_yaml(schema_file_path)\n",
    "        self.params=read_yaml(params_file_path)\n",
    "\n",
    "        create_directories([self.config.artifacts_root])\n",
    "\n",
    "    def get_model_trainer_config(self)->ModelTrainerConfig:\n",
    "        config=self.config.model_trainer\n",
    "        create_directories([config.root_dir])\n",
    "        \n",
    "        model_Trainer_config=ModelTrainerConfig(\n",
    "            root_dir=config.root_dir,\n",
    "            train_data=config.train_data_scaled_path,\n",
    "            test_data=config.test_data_scaled_path,\n",
    "            best_model_path=config.best_model_path,\n",
    "            train_not_scaled=config.train_data_not_scaled,\n",
    "            test_not_scaled=config.test_data_not_scaled,\n",
    "            dim_red_model=config.dim_red_model_path\n",
    "            )\n",
    "        return model_Trainer_config"
   ]
  },
  {
   "cell_type": "code",
   "execution_count": 12,
   "metadata": {},
   "outputs": [],
   "source": [
    "from sklearn.cluster import KMeans\n",
    "from sklearn.cluster import AgglomerativeClustering\n",
    "from sklearn.cluster import DBSCAN\n",
    "from sklearn.decomposition import PCA\n",
    "import pandas as pd\n",
    "from src.Customer_segementation.logger import logger\n",
    "from sklearn.metrics import confusion_matrix, precision_score, accuracy_score, classification_report\n",
    "from src.Customer_segementation.utils.common import save_object"
   ]
  },
  {
   "cell_type": "code",
   "execution_count": 24,
   "metadata": {},
   "outputs": [],
   "source": [
    "# pip install dagshub"
   ]
  },
  {
   "cell_type": "code",
   "execution_count": 28,
   "metadata": {},
   "outputs": [],
   "source": [
    "from sklearn.metrics import silhouette_score\n",
    "import dagshub\n",
    "import mlflow\n",
    "from urllib.parse import urlparse\n",
    "from src.Customer_segementation.utils.common import load_object"
   ]
  },
  {
   "cell_type": "code",
   "execution_count": 29,
   "metadata": {},
   "outputs": [
    {
     "ename": "SyntaxError",
     "evalue": "invalid syntax (4291363365.py, line 50)",
     "output_type": "error",
     "traceback": [
      "\u001b[0;36m  Cell \u001b[0;32mIn[29], line 50\u001b[0;36m\u001b[0m\n\u001b[0;31m    sil_score=silhouette_score(train_arr, model.labels_)\u001b[0m\n\u001b[0m    ^\u001b[0m\n\u001b[0;31mSyntaxError\u001b[0m\u001b[0;31m:\u001b[0m invalid syntax\n"
     ]
    }
   ],
   "source": [
    "class ModelTainer:\n",
    "    def __init__(self, config=ModelTrainerConfig) -> None:\n",
    "        self.config=config\n",
    "\n",
    "        self.model={\n",
    "            'kmean': KMeans(n_clusters=4, init='k-means++')\n",
    "        }\n",
    "\n",
    "    def model_evaluation(self, x_train, x_test, y_train, y_test, Model):\n",
    "        report={}\n",
    "        dim_red=PCA(n_components=2)\n",
    "        x_train_scaled=dim_red.fit_transform(x_train)\n",
    "        x_test_scaled=dim_red.transform(x_test)\n",
    "\n",
    "        for mod in range(len(Model)): \n",
    "            model= list(Model.values())[mod]\n",
    "\n",
    "            model= model.fit(x_train_scaled)\n",
    "\n",
    "            y_pred=model.predict(x_test_scaled)\n",
    "\n",
    "            logger.info(f\"Y perdication: {y_pred}\")\n",
    "\n",
    "            sil_score=silhouette_score(x_train_scaled, model.labels_)\n",
    "\n",
    "            logger.info(f\"silhouette_score of kmean: {sil_score}\")\n",
    "\n",
    "            acc=accuracy_score(y_test, y_pred)\n",
    "\n",
    "            logger.info(f\"Accuracy Score: {acc}\")\n",
    "\n",
    "            # report[list(Model.keys())[mod]]=acc_score\n",
    "            # report[list(Model.keys())[mod]]=score\n",
    "        # return (report, model, dim_red)\n",
    "        \n",
    "    def Evaluation_for_mlflow(self,x_train, x_test,y_test):\n",
    "\n",
    "        model= load_object(file_path=Path(\"artifacts/model_trainer/best_Model.h5\"))\n",
    "\n",
    "\n",
    "\n",
    "        dagshub.init(repo_owner='Abhikkumar619', repo_name='Customer_segmentation_project', mlflow=True)\n",
    "        mlflow.set_registry_uri('https://dagshub.com/Abhikkumar619/Customer_segmentation_project.mlflow')\n",
    "        tracking_url_type_store=urlparse(mlflow.get_tracking_uri()).scheme\n",
    "        print(tracking_url_type_store)\n",
    "\n",
    "\n",
    "        with mlflow.start_run():\n",
    "            prediction=model(x_train)\n",
    "            sil_score=silhouette_score(x_train, model.labels_)\n",
    "\n",
    "            acc=accuracy_score(y_test, prediction)\n",
    "\n",
    "            mlflow.log_param('Silhouette score', sil_score)\n",
    "            mlflow.log_metric('Accuracy_score', acc)\n",
    "\n",
    "            if tracking_url_type_store !='file': \n",
    "                    mlflow.sklearn.log_model(model, \"model\", registered_model_name=\"ml_model\")\n",
    "            else: \n",
    "                mlflow.sklearn.log_model(model, \"model\")\n",
    "\n",
    "\n",
    "    def inititate_model_trainer(self):\n",
    "        train_data=self.config.train_data\n",
    "        train_not_scaled=self.config.train_not_scaled\n",
    "        test_not_scaled=self.config.test_not_scaled\n",
    "        test_data=self.config.test_data\n",
    "\n",
    "        x= pd.read_csv(train_data)\n",
    "        x1=pd.read_csv(train_not_scaled)\n",
    "        x1['Segmentation']=x1['Segmentation'].map({'A':1, 'B':2, 'C':3, 'D':4})\n",
    "\n",
    "        y1=pd.read_csv(test_not_scaled)\n",
    "        y1['Segmentation']=y1['Segmentation'].map({'A':1, 'B':2, 'C':3, 'D':4})\n",
    "\n",
    "        y=pd.read_csv(test_data)\n",
    "\n",
    "        x_train=x.iloc[:,:-1]\n",
    "        y_train=x1.iloc[:,-1]\n",
    "\n",
    "        x_test=y.iloc[:,:-1]\n",
    "        y_test=y1.iloc[:,-1]\n",
    "\n",
    "        # logger.info(f\"x_: {x_test}\")\n",
    "        # logger.info(f\"{y_test}\")\n",
    "\n",
    "        logger.info(f\"Model list :{self.model}\")\n",
    "\n",
    "        self.Evaluation_for_mlflow(x_train, x_test, y_train)\n",
    "\n",
    "        # report, model, dim_red=self.model_evaluation(x_train, x_test, y_train, y_test, self.model)\n",
    "        # logger.info(f\"Report of model: {report}\")\n",
    "\n",
    "        # save_object(file_path=Path(self.config.best_model_path), obj=model)\n",
    "        # save_object(file_path=Path(self.config.dim_red_model), obj=dim_red)\n",
    "        \n"
   ]
  },
  {
   "cell_type": "code",
   "execution_count": 21,
   "metadata": {},
   "outputs": [
    {
     "name": "stdout",
     "output_type": "stream",
     "text": [
      "[2024-06-29 20:28:50,075 : INFO : common : Yaml file read config/config.yaml successfully]\n",
      "[2024-06-29 20:28:50,077 : INFO : common : Yaml file read schema.yaml successfully]\n",
      "[2024-06-29 20:28:50,078 : INFO : common : Yaml file read params.yaml successfully]\n",
      "[2024-06-29 20:28:50,079 : INFO : common : Directories created ['artifacts']]\n",
      "[2024-06-29 20:28:50,079 : INFO : common : Directories created ['artifacts/model_trainer']]\n",
      "[2024-06-29 20:28:50,101 : INFO : 200046112 : Model list :{'kmean': KMeans(n_clusters=4)}]\n"
     ]
    },
    {
     "name": "stderr",
     "output_type": "stream",
     "text": [
      "/Users/abishekkumaryadav/DataScience/Machine_learning/Customer_segmentation_project/cus_env/lib/python3.8/site-packages/sklearn/cluster/_kmeans.py:1416: FutureWarning: The default value of `n_init` will change from 10 to 'auto' in 1.4. Set the value of `n_init` explicitly to suppress the warning\n",
      "  super()._check_params_vs_input(X, default_n_init=10)\n"
     ]
    },
    {
     "name": "stdout",
     "output_type": "stream",
     "text": [
      "[2024-06-29 20:28:50,626 : INFO : 200046112 : Y perdication: [3 0 3 ... 1 0 1]]\n",
      "[2024-06-29 20:28:51,335 : INFO : 200046112 : silhouette_score of kmean: 0.5006688635144939]\n",
      "[2024-06-29 20:28:51,337 : INFO : 200046112 : Accuracy Score: 0.19708302169035152]\n"
     ]
    },
    {
     "ename": "TypeError",
     "evalue": "cannot unpack non-iterable NoneType object",
     "output_type": "error",
     "traceback": [
      "\u001b[0;31m---------------------------------------------------------------------------\u001b[0m",
      "\u001b[0;31mTypeError\u001b[0m                                 Traceback (most recent call last)",
      "Cell \u001b[0;32mIn[21], line 7\u001b[0m\n\u001b[1;32m      5\u001b[0m     model_trainer\u001b[38;5;241m.\u001b[39minititate_model_trainer()\n\u001b[1;32m      6\u001b[0m \u001b[38;5;28;01mexcept\u001b[39;00m \u001b[38;5;167;01mException\u001b[39;00m \u001b[38;5;28;01mas\u001b[39;00m e:\n\u001b[0;32m----> 7\u001b[0m     \u001b[38;5;28;01mraise\u001b[39;00m e\n",
      "Cell \u001b[0;32mIn[21], line 5\u001b[0m\n\u001b[1;32m      3\u001b[0m     model_trainer_config\u001b[38;5;241m=\u001b[39mconfig_manager\u001b[38;5;241m.\u001b[39mget_model_trainer_config()\n\u001b[1;32m      4\u001b[0m     model_trainer\u001b[38;5;241m=\u001b[39mModelTainer(model_trainer_config)\n\u001b[0;32m----> 5\u001b[0m     \u001b[43mmodel_trainer\u001b[49m\u001b[38;5;241;43m.\u001b[39;49m\u001b[43minititate_model_trainer\u001b[49m\u001b[43m(\u001b[49m\u001b[43m)\u001b[49m\n\u001b[1;32m      6\u001b[0m \u001b[38;5;28;01mexcept\u001b[39;00m \u001b[38;5;167;01mException\u001b[39;00m \u001b[38;5;28;01mas\u001b[39;00m e:\n\u001b[1;32m      7\u001b[0m     \u001b[38;5;28;01mraise\u001b[39;00m e\n",
      "Cell \u001b[0;32mIn[20], line 66\u001b[0m, in \u001b[0;36mModelTainer.inititate_model_trainer\u001b[0;34m(self)\u001b[0m\n\u001b[1;32m     61\u001b[0m \u001b[38;5;66;03m# logger.info(f\"x_: {x_test}\")\u001b[39;00m\n\u001b[1;32m     62\u001b[0m \u001b[38;5;66;03m# logger.info(f\"{y_test}\")\u001b[39;00m\n\u001b[1;32m     64\u001b[0m logger\u001b[38;5;241m.\u001b[39minfo(\u001b[38;5;124mf\u001b[39m\u001b[38;5;124m\"\u001b[39m\u001b[38;5;124mModel list :\u001b[39m\u001b[38;5;132;01m{\u001b[39;00m\u001b[38;5;28mself\u001b[39m\u001b[38;5;241m.\u001b[39mmodel\u001b[38;5;132;01m}\u001b[39;00m\u001b[38;5;124m\"\u001b[39m)\n\u001b[0;32m---> 66\u001b[0m report, model, dim_red\u001b[38;5;241m=\u001b[39m\u001b[38;5;28mself\u001b[39m\u001b[38;5;241m.\u001b[39mmodel_evaluation(x_train, x_test, y_train, y_test, \u001b[38;5;28mself\u001b[39m\u001b[38;5;241m.\u001b[39mmodel)\n",
      "\u001b[0;31mTypeError\u001b[0m: cannot unpack non-iterable NoneType object"
     ]
    }
   ],
   "source": [
    "try: \n",
    "    config_manager=configurationManager()\n",
    "    model_trainer_config=config_manager.get_model_trainer_config()\n",
    "    model_trainer=ModelTainer(model_trainer_config)\n",
    "    model_trainer.inititate_model_trainer()\n",
    "except Exception as e:\n",
    "    raise e"
   ]
  },
  {
   "cell_type": "code",
   "execution_count": null,
   "metadata": {},
   "outputs": [],
   "source": []
  }
 ],
 "metadata": {
  "kernelspec": {
   "display_name": "Python 3",
   "language": "python",
   "name": "python3"
  },
  "language_info": {
   "codemirror_mode": {
    "name": "ipython",
    "version": 3
   },
   "file_extension": ".py",
   "mimetype": "text/x-python",
   "name": "python",
   "nbconvert_exporter": "python",
   "pygments_lexer": "ipython3",
   "version": "3.8.19"
  }
 },
 "nbformat": 4,
 "nbformat_minor": 2
}
