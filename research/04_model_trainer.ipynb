{
 "cells": [
  {
   "cell_type": "code",
   "execution_count": 2,
   "metadata": {},
   "outputs": [],
   "source": [
    "import os\n",
    "os.chdir(\"../\")\n"
   ]
  },
  {
   "cell_type": "code",
   "execution_count": 3,
   "metadata": {},
   "outputs": [
    {
     "data": {
      "text/plain": [
       "'/Users/abishekkumaryadav/DataScience/Machine_learning/Customer_segmentation_project'"
      ]
     },
     "execution_count": 3,
     "metadata": {},
     "output_type": "execute_result"
    }
   ],
   "source": [
    "os.getcwd()"
   ]
  },
  {
   "cell_type": "code",
   "execution_count": 4,
   "metadata": {},
   "outputs": [],
   "source": [
    "os.chdir('/Users/abishekkumaryadav/DataScience/Machine_learning/Customer_segmentation_project')"
   ]
  },
  {
   "cell_type": "code",
   "execution_count": 23,
   "metadata": {},
   "outputs": [],
   "source": [
    "from dataclasses import dataclass\n",
    "from pathlib import Path"
   ]
  },
  {
   "cell_type": "code",
   "execution_count": 29,
   "metadata": {},
   "outputs": [],
   "source": [
    "@dataclass(frozen=True)\n",
    "class ModelTrainerConfig:\n",
    "    root_dir: Path\n",
    "    train_data: Path\n",
    "    test_data: Path\n",
    "    best_model_path: Path  \n",
    "    dim_red_model: Path"
   ]
  },
  {
   "cell_type": "code",
   "execution_count": 30,
   "metadata": {},
   "outputs": [],
   "source": [
    "from src.Customer_segementation.constant import *\n",
    "from src.Customer_segementation.utils.common import read_yaml, create_directories"
   ]
  },
  {
   "cell_type": "code",
   "execution_count": 31,
   "metadata": {},
   "outputs": [],
   "source": [
    "class configurationManager: \n",
    "    def __init__(self,config_file_path=CONFIG_FILE_PATH,\n",
    "                 schema_file_path=SCHEMA_FILE_PATH,\n",
    "                 params_file_path=PARAMS_FILE_PATH):\n",
    "        self.config=read_yaml(config_file_path)\n",
    "        self.schema=read_yaml(schema_file_path)\n",
    "        self.params=read_yaml(params_file_path)\n",
    "\n",
    "        create_directories([self.config.artifacts_root])\n",
    "\n",
    "    def get_model_trainer_config(self)->ModelTrainerConfig:\n",
    "        config=self.config.model_trainer\n",
    "        create_directories([config.root_dir])\n",
    "        \n",
    "        model_Trainer_config=ModelTrainerConfig(\n",
    "            root_dir=config.root_dir,\n",
    "            train_data=config.train_data_scaled_path,\n",
    "            test_data=config.test_data_scaled_path,\n",
    "            best_model_path=config.best_model_path,\n",
    "            dim_red_model=config.dim_red_model_path\n",
    "            )\n",
    "        return model_Trainer_config"
   ]
  },
  {
   "cell_type": "code",
   "execution_count": 32,
   "metadata": {},
   "outputs": [],
   "source": [
    "from sklearn.cluster import KMeans\n",
    "from sklearn.cluster import AgglomerativeClustering\n",
    "from sklearn.cluster import DBSCAN\n",
    "from sklearn.decomposition import PCA\n",
    "import pandas as pd\n",
    "from src.Customer_segementation.logger import logger\n",
    "from sklearn.metrics import confusion_matrix, precision_score, accuracy_score, classification_report\n",
    "from src.Customer_segementation.utils.common import save_object"
   ]
  },
  {
   "cell_type": "code",
   "execution_count": 33,
   "metadata": {},
   "outputs": [],
   "source": [
    "# pip install dagshub"
   ]
  },
  {
   "cell_type": "code",
   "execution_count": 34,
   "metadata": {},
   "outputs": [],
   "source": [
    "from sklearn.metrics import silhouette_score\n",
    "import dagshub\n",
    "import mlflow\n",
    "from urllib.parse import urlparse\n",
    "from src.Customer_segementation.utils.common import load_object"
   ]
  },
  {
   "cell_type": "code",
   "execution_count": 43,
   "metadata": {},
   "outputs": [],
   "source": [
    "class ModelTainer:\n",
    "    def __init__(self, config=ModelTrainerConfig) -> None:\n",
    "        self.config=config\n",
    "\n",
    "        self.model={\n",
    "            'kmean': KMeans(n_clusters=4, init='k-means++')\n",
    "        }\n",
    "\n",
    "    def model_evaluation(self, x_train, x_test, Model):\n",
    "        report={}\n",
    "        dim_red=PCA(n_components=2)\n",
    "        x_train_scaled=dim_red.fit_transform(x_train)\n",
    "        x_test_scaled=dim_red.transform(x_test)\n",
    "\n",
    "        save_object(file_path=Path(self.config.dim_red_model), obj=dim_red)\n",
    "        \n",
    "        for mod in range(len(Model)): \n",
    "            model= list(Model.values())[mod]\n",
    "\n",
    "            model= model.fit(x_train_scaled)\n",
    "\n",
    "            logger.info(f\"Labels: {model.labels_}\")\n",
    "            sil_score=silhouette_score(x_train,model.labels_)\n",
    "\n",
    "            logger.info(f\"silhouette_score of kmean: {sil_score}\")\n",
    "\n",
    "           \n",
    "            report[list(Model.keys())[mod]]=silhouette_score\n",
    "            # report[list(Model.keys())[mod]]=score\n",
    "        return report\n",
    "        \n",
    "    def inititate_model_trainer(self):\n",
    "        train_data=self.config.train_data\n",
    "        test_data=self.config.test_data\n",
    "\n",
    "        train= pd.read_csv(train_data)\n",
    "        test=pd.read_csv(test_data)\n",
    "\n",
    "\n",
    "        # logger.info(f\"x_: {train}\")\n",
    "        # logger.info(f\"{test}\")\n",
    "\n",
    "        # logger.info(f\"Model list :{self.model}\")\n",
    "\n",
    "        report=self.model_evaluation(train, test, self.model)\n",
    "        logger.info(f\"Report of model: {report}\")\n",
    "\n",
    "        # save_object(file_path=Path(self.config.best_model_path), obj=model)\n",
    "        # save_object(file_path=Path(self.config.dim_red_model), obj=dim_red)\n",
    "        \n"
   ]
  },
  {
   "cell_type": "code",
   "execution_count": 44,
   "metadata": {},
   "outputs": [
    {
     "name": "stdout",
     "output_type": "stream",
     "text": [
      "[2024-07-01 20:17:47,177 : INFO : common : Yaml file read config/config.yaml successfully]\n",
      "[2024-07-01 20:17:47,179 : INFO : common : Yaml file read schema.yaml successfully]\n",
      "[2024-07-01 20:17:47,180 : INFO : common : Yaml file read params.yaml successfully]\n",
      "[2024-07-01 20:17:47,181 : INFO : common : Directories created ['artifacts']]\n",
      "[2024-07-01 20:17:47,181 : INFO : common : Directories created ['artifacts/model_trainer']]\n",
      "[2024-07-01 20:17:47,673 : INFO : common : Object save at: <_io.BufferedWriter name='artifacts/model_trainer/dim_red.h5'>]\n"
     ]
    },
    {
     "name": "stderr",
     "output_type": "stream",
     "text": [
      "/Users/abishekkumaryadav/DataScience/Machine_learning/Customer_segmentation_project/cus_env/lib/python3.8/site-packages/sklearn/cluster/_kmeans.py:1416: FutureWarning: The default value of `n_init` will change from 10 to 'auto' in 1.4. Set the value of `n_init` explicitly to suppress the warning\n",
      "  super()._check_params_vs_input(X, default_n_init=10)\n"
     ]
    },
    {
     "name": "stdout",
     "output_type": "stream",
     "text": [
      "[2024-07-01 20:17:47,986 : INFO : 2631635086 : Labels: [0 0 0 ... 1 3 2]]\n",
      "[2024-07-01 20:17:48,737 : INFO : 2631635086 : silhouette_score of kmean: 0.2729232670458257]\n"
     ]
    }
   ],
   "source": [
    "try: \n",
    "    config_manager=configurationManager()\n",
    "    model_trainer_config=config_manager.get_model_trainer_config()\n",
    "    model_trainer=ModelTainer(model_trainer_config)\n",
    "    model_trainer.inititate_model_trainer()\n",
    "except Exception as e:\n",
    "    raise e"
   ]
  },
  {
   "cell_type": "code",
   "execution_count": null,
   "metadata": {},
   "outputs": [],
   "source": []
  }
 ],
 "metadata": {
  "kernelspec": {
   "display_name": "Python 3",
   "language": "python",
   "name": "python3"
  },
  "language_info": {
   "codemirror_mode": {
    "name": "ipython",
    "version": 3
   },
   "file_extension": ".py",
   "mimetype": "text/x-python",
   "name": "python",
   "nbconvert_exporter": "python",
   "pygments_lexer": "ipython3",
   "version": "3.8.19"
  }
 },
 "nbformat": 4,
 "nbformat_minor": 2
}
