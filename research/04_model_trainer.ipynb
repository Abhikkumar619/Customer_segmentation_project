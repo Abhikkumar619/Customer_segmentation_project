{
 "cells": [
  {
   "cell_type": "code",
   "execution_count": 1,
   "metadata": {},
   "outputs": [],
   "source": [
    "import os\n",
    "os.chdir(\"../\")"
   ]
  },
  {
   "cell_type": "code",
   "execution_count": 69,
   "metadata": {},
   "outputs": [],
   "source": [
    "from dataclasses import dataclass\n",
    "from pathlib import Path"
   ]
  },
  {
   "cell_type": "code",
   "execution_count": 70,
   "metadata": {},
   "outputs": [],
   "source": [
    "@dataclass(frozen=True)\n",
    "class ModelTrainerConfig:\n",
    "    root_dir: Path\n",
    "    train_data: Path\n",
    "    test_data: Path\n",
    "    best_model_path: Path  \n",
    "    train_not_scaled: Path\n",
    "    test_not_scaled: Path  \n",
    "    dim_red_model: Path"
   ]
  },
  {
   "cell_type": "code",
   "execution_count": 64,
   "metadata": {},
   "outputs": [],
   "source": [
    "from src.Customer_segementation.constant import *\n",
    "from src.Customer_segementation.utils.common import read_yaml, create_directories"
   ]
  },
  {
   "cell_type": "code",
   "execution_count": 71,
   "metadata": {},
   "outputs": [],
   "source": [
    "class configurationManager: \n",
    "    def __init__(self,config_file_path=CONFIG_FILE_PATH,\n",
    "                 schema_file_path=SCHEMA_FILE_PATH,\n",
    "                 params_file_path=PARAMS_FILE_PATH):\n",
    "        self.config=read_yaml(config_file_path)\n",
    "        self.schema=read_yaml(schema_file_path)\n",
    "        self.params=read_yaml(params_file_path)\n",
    "\n",
    "        create_directories([self.config.artifacts_root])\n",
    "\n",
    "    def get_model_trainer_config(self)->ModelTrainerConfig:\n",
    "        config=self.config.model_trainer\n",
    "        create_directories([config.root_dir])\n",
    "        \n",
    "        model_Trainer_config=ModelTrainerConfig(\n",
    "            root_dir=config.root_dir,\n",
    "            train_data=config.train_data_scaled_path,\n",
    "            test_data=config.test_data_scaled_path,\n",
    "            best_model_path=config.best_model_path,\n",
    "            train_not_scaled=config.train_data_not_scaled,\n",
    "            test_not_scaled=config.test_data_not_scaled,\n",
    "            dim_red_model=config.dim_red_model_path\n",
    "            )\n",
    "        return model_Trainer_config"
   ]
  },
  {
   "cell_type": "code",
   "execution_count": 72,
   "metadata": {},
   "outputs": [],
   "source": [
    "from sklearn.cluster import KMeans\n",
    "from sklearn.cluster import AgglomerativeClustering\n",
    "from sklearn.cluster import DBSCAN\n",
    "from sklearn.decomposition import PCA\n",
    "import pandas as pd\n",
    "from src.Customer_segementation.logger import logger\n",
    "from sklearn.metrics import confusion_matrix, precision_score, accuracy_score, classification_report\n",
    "from src.Customer_segementation.utils.common import save_object"
   ]
  },
  {
   "cell_type": "code",
   "execution_count": null,
   "metadata": {},
   "outputs": [],
   "source": []
  },
  {
   "cell_type": "code",
   "execution_count": 73,
   "metadata": {},
   "outputs": [],
   "source": [
    "class ModelTainer:\n",
    "    def __init__(self, config=ModelTrainerConfig) -> None:\n",
    "        self.config=config\n",
    "\n",
    "        self.model={\n",
    "            'kmean': KMeans(n_clusters=4, init='k-means++')\n",
    "        }\n",
    "\n",
    "    def model_evaluation(self, x_train, x_test, y_train, y_test, Model):\n",
    "        report={}\n",
    "        dim_red=PCA(n_components=2)\n",
    "        x_train_scaled=dim_red.fit_transform(x_train)\n",
    "        x_test_scaled=dim_red.transform(x_test)\n",
    "\n",
    "        for mod in range(len(Model)): \n",
    "            model= list(Model.values())[mod]\n",
    "\n",
    "            model= model.fit(x_train_scaled)\n",
    "\n",
    "            y_pred=model.predict(x_test_scaled)\n",
    "\n",
    "            logger.info(f\"Y perdication: {y_pred}\")\n",
    "\n",
    "            score=confusion_matrix(y_test, y_pred)\n",
    "            # precision_sc=precision_score(y_test, y_pred, average='weighted')\n",
    "\n",
    "            acc_score=accuracy_score(y_test, y_pred)\n",
    "            # logger.info(f\"Accuracy score: {acc_score}\")\n",
    "\n",
    "            class_report=classification_report(y_test, y_pred)\n",
    "            # logger.info(f\"Classification report\\n\\n: {class_report}\")\n",
    "            \n",
    "            # mae=mean_absolute_error(x_test, y_pred)\n",
    "\n",
    "            logger.info(f\"Accuracy Score\\n\\n: {score}\")\n",
    "            # logger.info(f\"precision_score: {precision_score}\")\n",
    "\n",
    "            report[list(Model.keys())[mod]]=acc_score\n",
    "            # report[list(Model.keys())[mod]]=score\n",
    "        return (report, model, dim_red)\n",
    "\n",
    "\n",
    "\n",
    "\n",
    "\n",
    "    def inititate_model_trainer(self):\n",
    "        train_data=self.config.train_data\n",
    "        train_not_scaled=self.config.train_not_scaled\n",
    "        test_not_scaled=self.config.test_not_scaled\n",
    "        test_data=self.config.test_data\n",
    "\n",
    "        x= pd.read_csv(train_data)\n",
    "        x1=pd.read_csv(train_not_scaled)\n",
    "        x1['Segmentation']=x1['Segmentation'].map({'A':1, 'B':2, 'C':3, 'D':4})\n",
    "\n",
    "        y1=pd.read_csv(test_not_scaled)\n",
    "        y1['Segmentation']=y1['Segmentation'].map({'A':1, 'B':2, 'C':3, 'D':4})\n",
    "\n",
    "        y=pd.read_csv(test_data)\n",
    "\n",
    "        x_train=x.iloc[:,:-1]\n",
    "        y_train=x1.iloc[:,-1]\n",
    "\n",
    "        x_test=y.iloc[:,:-1]\n",
    "        y_test=y1.iloc[:,-1]\n",
    "\n",
    "        # logger.info(f\"x_: {x_test}\")\n",
    "        # logger.info(f\"{y_test}\")\n",
    "\n",
    "        logger.info(f\"Model list :{self.model}\")\n",
    "\n",
    "        report, model, dim_red=self.model_evaluation(x_train, x_test, y_train, y_test, self.model)\n",
    "        logger.info(f\"Report of model: {report}\")\n",
    "\n",
    "        save_object(file_path=Path(self.config.best_model_path), obj=model)\n",
    "        save_object(file_path=Path(self.config.dim_red_model), obj=dim_red)\n",
    "        \n"
   ]
  },
  {
   "cell_type": "code",
   "execution_count": 74,
   "metadata": {},
   "outputs": [
    {
     "name": "stdout",
     "output_type": "stream",
     "text": [
      "[2024-06-28 06:45:44,683 : INFO : common : Yaml file read config/config.yaml successfully]\n"
     ]
    },
    {
     "name": "stdout",
     "output_type": "stream",
     "text": [
      "[2024-06-28 06:45:44,697 : INFO : common : Yaml file read schema.yaml successfully]\n",
      "[2024-06-28 06:45:44,709 : INFO : common : Yaml file read params.yaml successfully]\n",
      "[2024-06-28 06:45:44,716 : INFO : common : Directories created ['artifacts']]\n",
      "[2024-06-28 06:45:44,717 : INFO : common : Directories created ['artifacts/model_trainer']]\n",
      "[2024-06-28 06:45:44,744 : INFO : 1976508948 : Model list :{'kmean': KMeans(n_clusters=4)}]\n"
     ]
    },
    {
     "name": "stderr",
     "output_type": "stream",
     "text": [
      "/Users/abishekkumaryadav/DataScience/Machine_learning/Customer_segmentation_project/cus_env/lib/python3.8/site-packages/sklearn/cluster/_kmeans.py:1416: FutureWarning: The default value of `n_init` will change from 10 to 'auto' in 1.4. Set the value of `n_init` explicitly to suppress the warning\n",
      "  super()._check_params_vs_input(X, default_n_init=10)\n"
     ]
    },
    {
     "name": "stdout",
     "output_type": "stream",
     "text": [
      "[2024-06-28 06:45:45,322 : INFO : 1976508948 : Y perdication: [3 1 3 ... 2 1 2]]\n",
      "[2024-06-28 06:45:45,332 : INFO : 1976508948 : Accuracy Score\n",
      "\n",
      ": [[  0   0   0   0   0]\n",
      " [134 108 364 120   0]\n",
      " [ 87  86 367  87   0]\n",
      " [ 59  48 397  76   0]\n",
      " [176 316 186  63   0]]]\n",
      "[2024-06-28 06:45:45,332 : INFO : 1976508948 : Report of model: {'kmean': 0.20605833956619296}]\n",
      "[2024-06-28 06:45:45,334 : INFO : common : Object save at: <_io.BufferedWriter name='artifacts/model_trainer/best_Model.h5'>]\n",
      "[2024-06-28 06:45:45,335 : INFO : common : Object save at: <_io.BufferedWriter name='artifacts/model_trainer/dim_red.h5'>]\n"
     ]
    },
    {
     "name": "stderr",
     "output_type": "stream",
     "text": [
      "/Users/abishekkumaryadav/DataScience/Machine_learning/Customer_segmentation_project/cus_env/lib/python3.8/site-packages/sklearn/metrics/_classification.py:1471: UndefinedMetricWarning: Precision and F-score are ill-defined and being set to 0.0 in labels with no predicted samples. Use `zero_division` parameter to control this behavior.\n",
      "  _warn_prf(average, modifier, msg_start, len(result))\n",
      "/Users/abishekkumaryadav/DataScience/Machine_learning/Customer_segmentation_project/cus_env/lib/python3.8/site-packages/sklearn/metrics/_classification.py:1471: UndefinedMetricWarning: Recall and F-score are ill-defined and being set to 0.0 in labels with no true samples. Use `zero_division` parameter to control this behavior.\n",
      "  _warn_prf(average, modifier, msg_start, len(result))\n",
      "/Users/abishekkumaryadav/DataScience/Machine_learning/Customer_segmentation_project/cus_env/lib/python3.8/site-packages/sklearn/metrics/_classification.py:1471: UndefinedMetricWarning: Precision and F-score are ill-defined and being set to 0.0 in labels with no predicted samples. Use `zero_division` parameter to control this behavior.\n",
      "  _warn_prf(average, modifier, msg_start, len(result))\n",
      "/Users/abishekkumaryadav/DataScience/Machine_learning/Customer_segmentation_project/cus_env/lib/python3.8/site-packages/sklearn/metrics/_classification.py:1471: UndefinedMetricWarning: Recall and F-score are ill-defined and being set to 0.0 in labels with no true samples. Use `zero_division` parameter to control this behavior.\n",
      "  _warn_prf(average, modifier, msg_start, len(result))\n",
      "/Users/abishekkumaryadav/DataScience/Machine_learning/Customer_segmentation_project/cus_env/lib/python3.8/site-packages/sklearn/metrics/_classification.py:1471: UndefinedMetricWarning: Precision and F-score are ill-defined and being set to 0.0 in labels with no predicted samples. Use `zero_division` parameter to control this behavior.\n",
      "  _warn_prf(average, modifier, msg_start, len(result))\n",
      "/Users/abishekkumaryadav/DataScience/Machine_learning/Customer_segmentation_project/cus_env/lib/python3.8/site-packages/sklearn/metrics/_classification.py:1471: UndefinedMetricWarning: Recall and F-score are ill-defined and being set to 0.0 in labels with no true samples. Use `zero_division` parameter to control this behavior.\n",
      "  _warn_prf(average, modifier, msg_start, len(result))\n"
     ]
    }
   ],
   "source": [
    "try: \n",
    "    config_manager=configurationManager()\n",
    "    model_trainer_config=config_manager.get_model_trainer_config()\n",
    "    model_trainer=ModelTainer(model_trainer_config)\n",
    "    model_trainer.inititate_model_trainer()\n",
    "except Exception as e:\n",
    "    raise e"
   ]
  },
  {
   "cell_type": "code",
   "execution_count": null,
   "metadata": {},
   "outputs": [],
   "source": []
  }
 ],
 "metadata": {
  "kernelspec": {
   "display_name": "Python 3",
   "language": "python",
   "name": "python3"
  },
  "language_info": {
   "codemirror_mode": {
    "name": "ipython",
    "version": 3
   },
   "file_extension": ".py",
   "mimetype": "text/x-python",
   "name": "python",
   "nbconvert_exporter": "python",
   "pygments_lexer": "ipython3",
   "version": "3.8.19"
  }
 },
 "nbformat": 4,
 "nbformat_minor": 2
}
