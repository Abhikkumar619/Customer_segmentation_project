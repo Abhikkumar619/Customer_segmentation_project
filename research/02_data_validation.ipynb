{
 "cells": [
  {
   "cell_type": "code",
   "execution_count": 1,
   "metadata": {},
   "outputs": [],
   "source": [
    "import os\n",
    "os.chdir(\"../\")"
   ]
  },
  {
   "cell_type": "code",
   "execution_count": 2,
   "metadata": {},
   "outputs": [],
   "source": [
    "from dataclasses import dataclass\n",
    "from pathlib import Path"
   ]
  },
  {
   "cell_type": "code",
   "execution_count": 8,
   "metadata": {},
   "outputs": [],
   "source": [
    "@dataclass(frozen=True)\n",
    "class DataValidationConfig:\n",
    "    root_dir: Path\n",
    "    data_dir: Path\n",
    "    status_file: Path\n",
    "    all_schema: dict"
   ]
  },
  {
   "cell_type": "code",
   "execution_count": 5,
   "metadata": {},
   "outputs": [],
   "source": [
    "from src.Customer_segementation.utils.common import read_yaml, create_directories\n",
    "from src.Customer_segementation.constant import *"
   ]
  },
  {
   "cell_type": "code",
   "execution_count": 13,
   "metadata": {},
   "outputs": [],
   "source": [
    "class configurationManager: \n",
    "    def __init__(self,config_file_path=CONFIG_FILE_PATH,\n",
    "                 schema_file_path=SCHEMA_FILE_PATH,\n",
    "                 params_file_path=PARAMS_FILE_PATH):\n",
    "        self.config=read_yaml(config_file_path)\n",
    "        self.schema=read_yaml(schema_file_path)\n",
    "        self.params=read_yaml(params_file_path)\n",
    "\n",
    "        create_directories([self.config.artifacts_root])\n",
    "\n",
    "    def get_Data_validation_config(self)->DataValidationConfig:\n",
    "        config=self.config.data_validation\n",
    "        schema=self.schema.COLUMNS\n",
    "        create_directories([config.root_dir])\n",
    "\n",
    "        data_validation_config=DataValidationConfig(\n",
    "            root_dir=config.root_dir,\n",
    "            data_dir=config.data_dir,\n",
    "            status_file=config.status_file,\n",
    "            all_schema=schema\n",
    "            )\n",
    "        return data_validation_config\n",
    "        "
   ]
  },
  {
   "cell_type": "code",
   "execution_count": 14,
   "metadata": {},
   "outputs": [],
   "source": [
    "from src.Customer_segementation.logger import logger\n",
    "import pandas as pd"
   ]
  },
  {
   "cell_type": "code",
   "execution_count": 29,
   "metadata": {},
   "outputs": [],
   "source": [
    "class DataValidation:\n",
    "    def __init__(self, config=DataValidationConfig):\n",
    "        self.config=config\n",
    "\n",
    "    def validation_all_columns(self):\n",
    "        \"\"\"\n",
    "        Method_name: validation all  columns\n",
    "        Description: This method validate all columns like data comming from database and columns use for model.\n",
    "\n",
    "        output: function return txt file, it columns all right than return True otherwise false.\n",
    "        on failure: write exception log and raise exception.\n",
    "        \"\"\"\n",
    "        logger.info(f\"Data validation started in data validation class\")\n",
    "        try: \n",
    "            validation_satus=None\n",
    "            data=pd.read_csv(self.config.data_dir)\n",
    "            logger.info(f\"Customer segemntaion data: {data.head()}\")\n",
    "\n",
    "            all_columns=list(data.columns)\n",
    "            logger.info(f\"All Columns of data {all_columns}\")\n",
    "\n",
    "            logger.info(f\"All schema data: {self.config.all_schema}\")\n",
    "\n",
    "            schema=list(self.config.all_schema.keys())\n",
    "\n",
    "            logger.info(f\"Actual schema : {schema}\")\n",
    "\n",
    "            for col in all_columns: \n",
    "                if col not in schema:\n",
    "                    validation_satus=False\n",
    "                    with open(self.config.status_file,'w') as f: \n",
    "                        f.write(f\"Validation status: {validation_satus}\")\n",
    "\n",
    "                else: \n",
    "                    validation_satus=True\n",
    "                with open(self.config.status_file,'w') as f: \n",
    "                    f.write(f\"Validation status: {validation_satus}\")\n",
    "\n",
    "        except Exception as e: \n",
    "            raise e"
   ]
  },
  {
   "cell_type": "code",
   "execution_count": 30,
   "metadata": {},
   "outputs": [
    {
     "name": "stdout",
     "output_type": "stream",
     "text": [
      "[2024-06-25 16:44:50,574 : INFO : common : Yaml file read config/config.yaml successfully]\n",
      "[2024-06-25 16:44:50,577 : INFO : common : Yaml file read schema.yaml successfully]\n",
      "[2024-06-25 16:44:50,578 : INFO : common : Yaml file read params.yaml successfully]\n",
      "[2024-06-25 16:44:50,578 : INFO : common : Directories created ['artifacts']]\n",
      "[2024-06-25 16:44:50,579 : INFO : common : Directories created ['artifacts/data_validation']]\n",
      "[2024-06-25 16:44:50,579 : INFO : 3667790040 : Data validation started in data validation class]\n",
      "[2024-06-25 16:44:50,593 : INFO : 3667790040 : Customer segemntaion data:        ID  Gender Ever_Married  Age Graduated     Profession  Work_Experience  \\\n",
      "0  462809    Male           No   22        No     Healthcare              1.0   \n",
      "1  462643  Female          Yes   38       Yes       Engineer              NaN   \n",
      "2  466315  Female          Yes   67       Yes       Engineer              1.0   \n",
      "3  461735    Male          Yes   67       Yes         Lawyer              0.0   \n",
      "4  462669  Female          Yes   40       Yes  Entertainment              NaN   \n",
      "\n",
      "  Spending_Score  Family_Size  Var_1 Segmentation  \n",
      "0            Low          4.0  Cat_4            D  \n",
      "1        Average          3.0  Cat_4            A  \n",
      "2            Low          1.0  Cat_6            B  \n",
      "3           High          2.0  Cat_6            B  \n",
      "4           High          6.0  Cat_6            A  ]\n",
      "[2024-06-25 16:44:50,593 : INFO : 3667790040 : All Columns of data ['ID', 'Gender', 'Ever_Married', 'Age', 'Graduated', 'Profession', 'Work_Experience', 'Spending_Score', 'Family_Size', 'Var_1', 'Segmentation']]\n",
      "[2024-06-25 16:44:50,594 : INFO : 3667790040 : All schema data: {'ID': 'int64', 'Gender': 'object', 'Ever_Married': 'object', 'Age': 'int64', 'Graduated': 'object', 'Profession': 'object', 'Work_Experience': 'float64', 'Spending_Score': 'object', 'Family_Size': 'float64', 'Var_1': 'object', 'Segmentation': 'object'}]\n",
      "[2024-06-25 16:44:50,594 : INFO : 3667790040 : Actual schema : ['ID', 'Gender', 'Ever_Married', 'Age', 'Graduated', 'Profession', 'Work_Experience', 'Spending_Score', 'Family_Size', 'Var_1', 'Segmentation']]\n"
     ]
    }
   ],
   "source": [
    "try: \n",
    "    configmanger=configurationManager()\n",
    "    data_validationConfig=configmanger.get_Data_validation_config()\n",
    "    data_validation=DataValidation(data_validationConfig)\n",
    "    data_validation.validation_all_columns()\n",
    "except Exception as e: \n",
    "    raise e"
   ]
  },
  {
   "cell_type": "code",
   "execution_count": null,
   "metadata": {},
   "outputs": [],
   "source": []
  }
 ],
 "metadata": {
  "kernelspec": {
   "display_name": "Python 3",
   "language": "python",
   "name": "python3"
  },
  "language_info": {
   "codemirror_mode": {
    "name": "ipython",
    "version": 3
   },
   "file_extension": ".py",
   "mimetype": "text/x-python",
   "name": "python",
   "nbconvert_exporter": "python",
   "pygments_lexer": "ipython3",
   "version": "3.8.19"
  }
 },
 "nbformat": 4,
 "nbformat_minor": 2
}
