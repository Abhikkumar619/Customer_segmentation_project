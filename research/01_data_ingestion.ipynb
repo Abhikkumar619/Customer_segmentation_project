{
 "cells": [
  {
   "cell_type": "code",
   "execution_count": 1,
   "metadata": {},
   "outputs": [],
   "source": [
    "import os"
   ]
  },
  {
   "cell_type": "code",
   "execution_count": 2,
   "metadata": {},
   "outputs": [
    {
     "data": {
      "text/plain": [
       "'/Users/abishekkumaryadav/DataScience/Machine_learning/Customer_segmentation_project/research'"
      ]
     },
     "execution_count": 2,
     "metadata": {},
     "output_type": "execute_result"
    }
   ],
   "source": [
    "os.getcwd()"
   ]
  },
  {
   "cell_type": "code",
   "execution_count": 3,
   "metadata": {},
   "outputs": [],
   "source": [
    "os.chdir('../')"
   ]
  },
  {
   "cell_type": "code",
   "execution_count": 33,
   "metadata": {},
   "outputs": [],
   "source": [
    "from dataclasses import dataclass\n",
    "from src.Customer_segementation.logger import logger\n",
    "from src.Customer_segementation.constant import *"
   ]
  },
  {
   "cell_type": "code",
   "execution_count": 34,
   "metadata": {},
   "outputs": [],
   "source": [
    "@dataclass\n",
    "class DataIngestionConfig: \n",
    "    root_dir: Path\n",
    "    data_path: Path\n",
    "    mongodb_url: str\n",
    "    database_name: str\n",
    "    collection_name: str"
   ]
  },
  {
   "cell_type": "code",
   "execution_count": 35,
   "metadata": {},
   "outputs": [],
   "source": [
    "from src.Customer_segementation.utils.common import read_yaml, create_directories"
   ]
  },
  {
   "cell_type": "code",
   "execution_count": 36,
   "metadata": {},
   "outputs": [],
   "source": [
    "class configurationManager:\n",
    "    def __init__(self, config_file_path=CONFIG_FILE_PATH, \n",
    "                 params_file_path=PARAMS_FILE_PATH):\n",
    "        self.config=read_yaml(config_file_path)\n",
    "        self.params=read_yaml(params_file_path)\n",
    "\n",
    "        create_directories([self.config.artifacts_root])\n",
    "\n",
    "    def get_data_ingestion_config(self)-> DataIngestionConfig:\n",
    "        config=self.config.data_ingestion\n",
    "        create_directories([config.root_dir])\n",
    "\n",
    "        data_ingestion_config=DataIngestionConfig(\n",
    "            root_dir=config.root_dir,\n",
    "            data_path=config.data_path,\n",
    "            mongodb_url=config.mongodb_url,\n",
    "            database_name=config.DATABASE_NAME,\n",
    "            collection_name=config.COLLECTION_NAME\n",
    "\n",
    "        )\n",
    "        return data_ingestion_config"
   ]
  },
  {
   "cell_type": "code",
   "execution_count": 37,
   "metadata": {},
   "outputs": [],
   "source": [
    "from pymongo.mongo_client import MongoClient\n",
    "import pandas as pd"
   ]
  },
  {
   "cell_type": "code",
   "execution_count": 38,
   "metadata": {},
   "outputs": [],
   "source": [
    "from pymongo import MongoClient\n",
    "import ssl"
   ]
  },
  {
   "cell_type": "code",
   "execution_count": 39,
   "metadata": {},
   "outputs": [],
   "source": [
    "class DataIngestion: \n",
    "    def __init__(self,config=DataIngestionConfig):\n",
    "        self.config=config\n",
    "\n",
    "\n",
    "    def import_collection_as_DataFrame(self, database_name: str,\n",
    "                                        collection_name: str, mongodb_uri: str):\n",
    "        try: \n",
    "            client=MongoClient(mongodb_uri, tls=True, tlsAllowInvalidCertificates=True)\n",
    "\n",
    "            collection_name=client[database_name][collection_name]\n",
    "\n",
    "            data=pd.DataFrame(list(collection_name.find()))\n",
    "            \n",
    "            for col in data.columns: \n",
    "                if col =='_id':\n",
    "                    data.drop('_id', axis=1, inplace=True)\n",
    "            \n",
    "            return data\n",
    "\n",
    "\n",
    "        except Exception as e:\n",
    "            raise e\n",
    "\n",
    "    def import_data_into_feature_store_file_system(self):\n",
    "        \"\"\"\n",
    "        Method_name: Import data into feature store file.\n",
    "        Description: This method import data from mongodb and save into artifacts folder.\n",
    "\n",
    "        outPut: data return as DataFrame\n",
    "        onfailure: Write exception log and raise exception.\n",
    "        \"\"\"\n",
    "\n",
    "        try: \n",
    "            logger.info(\"Importing DataFrame from Mongodb\")\n",
    "            data=self.import_collection_as_DataFrame(database_name=self.config.database_name,\n",
    "                                                collection_name=self.config.collection_name,\n",
    "                                                mongodb_uri=self.config.mongodb_url\n",
    "                                                )\n",
    "            \n",
    "            data.to_csv(self.config.data_path, header=True, index=False)\n",
    "\n",
    "        except Exception as e: \n",
    "            raise e\n"
   ]
  },
  {
   "cell_type": "code",
   "execution_count": 40,
   "metadata": {},
   "outputs": [
    {
     "name": "stdout",
     "output_type": "stream",
     "text": [
      "[2024-07-01 16:50:33,299 : INFO : common : Yaml file read config/config.yaml successfully]\n",
      "[2024-07-01 16:50:33,301 : INFO : common : Yaml file read params.yaml successfully]\n",
      "[2024-07-01 16:50:33,302 : INFO : common : Directories created ['artifacts']]\n",
      "[2024-07-01 16:50:33,302 : INFO : common : Directories created ['artifacts/data_ingestion']]\n",
      "[2024-07-01 16:50:33,303 : INFO : 4116503278 : Importing DataFrame from Mongodb]\n"
     ]
    }
   ],
   "source": [
    "try: \n",
    "    configmanger=configurationManager()\n",
    "    dataingestion_config=configmanger.get_data_ingestion_config()\n",
    "    data_ingestion=DataIngestion(dataingestion_config)\n",
    "    data_ingestion.import_data_into_feature_store_file_system()\n",
    "except Exception as e:\n",
    "    raise e"
   ]
  },
  {
   "cell_type": "code",
   "execution_count": null,
   "metadata": {},
   "outputs": [],
   "source": []
  }
 ],
 "metadata": {
  "kernelspec": {
   "display_name": "Python 3",
   "language": "python",
   "name": "python3"
  },
  "language_info": {
   "codemirror_mode": {
    "name": "ipython",
    "version": 3
   },
   "file_extension": ".py",
   "mimetype": "text/x-python",
   "name": "python",
   "nbconvert_exporter": "python",
   "pygments_lexer": "ipython3",
   "version": "3.8.19"
  }
 },
 "nbformat": 4,
 "nbformat_minor": 2
}
