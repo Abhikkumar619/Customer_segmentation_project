{
 "cells": [
  {
   "cell_type": "code",
   "execution_count": 1,
   "metadata": {},
   "outputs": [],
   "source": [
    "import os"
   ]
  },
  {
   "cell_type": "code",
   "execution_count": 2,
   "metadata": {},
   "outputs": [],
   "source": [
    "os.chdir(\"../\")"
   ]
  },
  {
   "cell_type": "code",
   "execution_count": 5,
   "metadata": {},
   "outputs": [],
   "source": [
    "from sklearn.metrics import silhouette_score\n",
    "import dagshub\n",
    "import mlflow\n",
    "from urllib.parse import urlparse\n",
    "from pathlib import Path\n",
    "from src.Customer_segementation.utils.common import load_object"
   ]
  },
  {
   "cell_type": "code",
   "execution_count": 6,
   "metadata": {},
   "outputs": [],
   "source": [
    "import pandas as pd"
   ]
  },
  {
   "cell_type": "code",
   "execution_count": 12,
   "metadata": {},
   "outputs": [],
   "source": [
    "class ModelEvaluation:\n",
    "    def __init__(self) -> None:\n",
    "        pass\n",
    "\n",
    "    def evluation_matrix_for_mlflow(self, model, train_data): \n",
    "        dagshub.init(repo_owner='Abhikkumar619', repo_name='Customer_segmentation_project', mlflow=True)\n",
    "        mlflow.set_registry_uri('https://dagshub.com/Abhikkumar619/Customer_segmentation_project.mlflow')\n",
    "        tracking_url_type_store=urlparse(mlflow.get_tracking_uri()).scheme\n",
    "        print(tracking_url_type_store)\n",
    "\n",
    "\n",
    "        with mlflow.start_run():\n",
    "            prediction=model.predict(train_data)\n",
    "            sil_score=silhouette_score(train_data ,model.labels_)\n",
    "            mlflow.log_metric(\"silhouette_score\",sil_score)\n",
    "\n",
    "            if tracking_url_type_store !='file': \n",
    "                    mlflow.sklearn.log_model(model, \"model\", registered_model_name=\"ml_model\")\n",
    "            else: \n",
    "                mlflow.sklearn.log_model(model, \"model\")\n",
    "\n",
    "\n",
    "    def inititate_model_evaluation(self):\n",
    "        try: \n",
    "            # Load model from artifacts.\n",
    "            model=load_object(Path(\"artifacts/model_trainer/best_Model.h5\"))\n",
    "            dim_model=load_object(Path(\"artifacts/model_trainer/dim_red.h5\"))\n",
    "            train_data_path=\"artifacts/data_transformation/train_scaled.csv\"\n",
    "            test_data_path=\"artifacts/data_transformation/test_scaled.csv\"\n",
    "\n",
    "            x=pd.read_csv(train_data_path)\n",
    "            y=pd.read_csv(test_data_path)\n",
    "\n",
    "            dim_train=dim_model.transform(x)\n",
    "\n",
    "            self.evluation_matrix_for_mlflow(model, dim_train)\n",
    "\n",
    "           \n",
    "        except Exception as e: \n",
    "            raise\n",
    "\n"
   ]
  },
  {
   "cell_type": "code",
   "execution_count": 13,
   "metadata": {},
   "outputs": [
    {
     "name": "stdout",
     "output_type": "stream",
     "text": [
      "[2024-07-01 06:35:57,137 : INFO : common : object load sucessfully from path: artifacts/model_trainer/best_Model.h5]\n",
      "[2024-07-01 06:35:57,139 : INFO : common : object load sucessfully from path: artifacts/model_trainer/dim_red.h5]\n"
     ]
    },
    {
     "data": {
      "text/html": [
       "<pre style=\"white-space:pre;overflow-x:auto;line-height:normal;font-family:Menlo,'DejaVu Sans Mono',consolas,'Courier New',monospace\">Initialized MLflow to track repo <span style=\"color: #008000; text-decoration-color: #008000\">\"Abhikkumar619/Customer_segmentation_project\"</span>\n",
       "</pre>\n"
      ],
      "text/plain": [
       "Initialized MLflow to track repo \u001b[32m\"Abhikkumar619/Customer_segmentation_project\"\u001b[0m\n"
      ]
     },
     "metadata": {},
     "output_type": "display_data"
    },
    {
     "name": "stdout",
     "output_type": "stream",
     "text": [
      "[2024-07-01 06:35:57,690 : INFO : helpers : Initialized MLflow to track repo \"Abhikkumar619/Customer_segmentation_project\"]\n"
     ]
    },
    {
     "data": {
      "text/html": [
       "<pre style=\"white-space:pre;overflow-x:auto;line-height:normal;font-family:Menlo,'DejaVu Sans Mono',consolas,'Courier New',monospace\">Repository Abhikkumar619/Customer_segmentation_project initialized!\n",
       "</pre>\n"
      ],
      "text/plain": [
       "Repository Abhikkumar619/Customer_segmentation_project initialized!\n"
      ]
     },
     "metadata": {},
     "output_type": "display_data"
    },
    {
     "name": "stdout",
     "output_type": "stream",
     "text": [
      "[2024-07-01 06:35:57,692 : INFO : helpers : Repository Abhikkumar619/Customer_segmentation_project initialized!]\n",
      "https\n"
     ]
    },
    {
     "name": "stderr",
     "output_type": "stream",
     "text": [
      "/Users/abishekkumaryadav/DataScience/Machine_learning/Customer_segmentation_project/cus_env/lib/python3.8/site-packages/_distutils_hack/__init__.py:26: UserWarning: Setuptools is replacing distutils.\n",
      "  warnings.warn(\"Setuptools is replacing distutils.\")\n",
      "Successfully registered model 'ml_model'.\n",
      "2024/07/01 06:36:06 INFO mlflow.tracking._model_registry.client: Waiting up to 300 seconds for model version to finish creation.                     Model name: ml_model, version 1\n",
      "Created version '1' of model 'ml_model'.\n"
     ]
    }
   ],
   "source": [
    "try: \n",
    "    model_evaluation=ModelEvaluation()\n",
    "    model_evaluation.inititate_model_evaluation()\n",
    "    \n",
    "except Exception as e:\n",
    "    raise e"
   ]
  },
  {
   "cell_type": "code",
   "execution_count": null,
   "metadata": {},
   "outputs": [],
   "source": []
  }
 ],
 "metadata": {
  "kernelspec": {
   "display_name": "Python 3",
   "language": "python",
   "name": "python3"
  },
  "language_info": {
   "codemirror_mode": {
    "name": "ipython",
    "version": 3
   },
   "file_extension": ".py",
   "mimetype": "text/x-python",
   "name": "python",
   "nbconvert_exporter": "python",
   "pygments_lexer": "ipython3",
   "version": "3.8.19"
  }
 },
 "nbformat": 4,
 "nbformat_minor": 2
}
