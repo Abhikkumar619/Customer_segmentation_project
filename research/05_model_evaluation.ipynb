{
 "cells": [
  {
   "cell_type": "code",
   "execution_count": 1,
   "metadata": {},
   "outputs": [],
   "source": [
    "import os"
   ]
  },
  {
   "cell_type": "code",
   "execution_count": 2,
   "metadata": {},
   "outputs": [],
   "source": [
    "os.chdir(\"../\")"
   ]
  },
  {
   "cell_type": "code",
   "execution_count": 20,
   "metadata": {},
   "outputs": [],
   "source": [
    "from sklearn.metrics import silhouette_score\n",
    "import dagshub\n",
    "import mlflow\n",
    "from urllib.parse import urlparse\n",
    "from pathlib import Path\n",
    "from src.Customer_segementation.utils.common import load_object"
   ]
  },
  {
   "cell_type": "code",
   "execution_count": 21,
   "metadata": {},
   "outputs": [],
   "source": [
    "import pandas as pd\n",
    "from dataclasses import dataclass"
   ]
  },
  {
   "cell_type": "code",
   "execution_count": 22,
   "metadata": {},
   "outputs": [],
   "source": [
    "@dataclass(frozen=True)\n",
    "class ModelEvaluationConfig:\n",
    "    data: Path\n",
    "    model_path: Path\n",
    "    dim_red_model: Path\n"
   ]
  },
  {
   "cell_type": "code",
   "execution_count": 23,
   "metadata": {},
   "outputs": [],
   "source": [
    "from src.Customer_segementation.constant import *\n",
    "from src.Customer_segementation.utils.common import read_yaml, create_directories"
   ]
  },
  {
   "cell_type": "code",
   "execution_count": 24,
   "metadata": {},
   "outputs": [],
   "source": [
    "class configurationManager: \n",
    "    def __init__(self,config_file_path=CONFIG_FILE_PATH,\n",
    "                 schema_file_path=SCHEMA_FILE_PATH,\n",
    "                 params_file_path=PARAMS_FILE_PATH):\n",
    "        self.config=read_yaml(config_file_path)\n",
    "        self.schema=read_yaml(schema_file_path)\n",
    "        self.params=read_yaml(params_file_path)\n",
    "\n",
    "        create_directories([self.config.artifacts_root])\n",
    "\n",
    "    def get_model_evaluation_config(self):\n",
    "        config=self.config.model_evaluation\n",
    "\n",
    "        model_evaluation_config=ModelEvaluationConfig(\n",
    "            data=config.train_data_scaled,\n",
    "            model_path=config.model_path,\n",
    "            dim_red_model=config.dim_red_model\n",
    "\n",
    "        )\n",
    "        return model_evaluation_config"
   ]
  },
  {
   "cell_type": "code",
   "execution_count": 25,
   "metadata": {},
   "outputs": [],
   "source": [
    "class ModelEvaluation:\n",
    "    def __init__(self, config=ModelEvaluationConfig):\n",
    "        self.config=config\n",
    "\n",
    "    def evluation_matrix_for_mlflow(self, model, train_data): \n",
    "        dagshub.init(repo_owner='Abhikkumar619', repo_name='Customer_segmentation_project', mlflow=True)\n",
    "        mlflow.set_registry_uri('https://dagshub.com/Abhikkumar619/Customer_segmentation_project.mlflow')\n",
    "        tracking_url_type_store=urlparse(mlflow.get_tracking_uri()).scheme\n",
    "        print(tracking_url_type_store)\n",
    "\n",
    "\n",
    "        with mlflow.start_run():\n",
    "            prediction=model.predict(train_data)\n",
    "            sil_score=silhouette_score(train_data ,model.labels_)\n",
    "            mlflow.log_metric(\"silhouette_score\",sil_score)\n",
    "\n",
    "            if tracking_url_type_store !='file': \n",
    "                    mlflow.sklearn.log_model(model, \"model\", registered_model_name=\"ml_model\")\n",
    "            else: \n",
    "                mlflow.sklearn.log_model(model, \"model\")\n",
    "\n",
    "\n",
    "    def inititate_model_evaluation(self):\n",
    "        try: \n",
    "            # Load model from artifacts.\n",
    "            model=load_object(Path(self.config.model_path))\n",
    "            dim_model=load_object(Path(self.config.dim_red_model))\n",
    "            \n",
    "            x=pd.read_csv(self.config.data)\n",
    "\n",
    "            dim_train=dim_model.transform(x)\n",
    "\n",
    "            self.evluation_matrix_for_mlflow(model, dim_train)\n",
    "\n",
    "           \n",
    "        except Exception as e: \n",
    "            raise\n",
    "\n"
   ]
  },
  {
   "cell_type": "code",
   "execution_count": 27,
   "metadata": {},
   "outputs": [
    {
     "name": "stdout",
     "output_type": "stream",
     "text": [
      "[2024-07-01 06:57:48,008 : INFO : common : Yaml file read config/config.yaml successfully]\n",
      "[2024-07-01 06:57:48,011 : INFO : common : Yaml file read schema.yaml successfully]\n",
      "[2024-07-01 06:57:48,012 : INFO : common : Yaml file read params.yaml successfully]\n",
      "[2024-07-01 06:57:48,012 : INFO : common : Directories created ['artifacts']]\n",
      "[2024-07-01 06:57:48,013 : INFO : common : object load sucessfully from path: artifacts/model_trainer/best_Model.h5]\n",
      "[2024-07-01 06:57:48,013 : INFO : common : object load sucessfully from path: artifacts/model_trainer/dim_red.h5]\n"
     ]
    },
    {
     "data": {
      "text/html": [
       "<pre style=\"white-space:pre;overflow-x:auto;line-height:normal;font-family:Menlo,'DejaVu Sans Mono',consolas,'Courier New',monospace\">Initialized MLflow to track repo <span style=\"color: #008000; text-decoration-color: #008000\">\"Abhikkumar619/Customer_segmentation_project\"</span>\n",
       "</pre>\n"
      ],
      "text/plain": [
       "Initialized MLflow to track repo \u001b[32m\"Abhikkumar619/Customer_segmentation_project\"\u001b[0m\n"
      ]
     },
     "metadata": {},
     "output_type": "display_data"
    },
    {
     "name": "stdout",
     "output_type": "stream",
     "text": [
      "[2024-07-01 06:57:48,638 : INFO : helpers : Initialized MLflow to track repo \"Abhikkumar619/Customer_segmentation_project\"]\n"
     ]
    },
    {
     "data": {
      "text/html": [
       "<pre style=\"white-space:pre;overflow-x:auto;line-height:normal;font-family:Menlo,'DejaVu Sans Mono',consolas,'Courier New',monospace\">Repository Abhikkumar619/Customer_segmentation_project initialized!\n",
       "</pre>\n"
      ],
      "text/plain": [
       "Repository Abhikkumar619/Customer_segmentation_project initialized!\n"
      ]
     },
     "metadata": {},
     "output_type": "display_data"
    },
    {
     "name": "stdout",
     "output_type": "stream",
     "text": [
      "[2024-07-01 06:57:48,640 : INFO : helpers : Repository Abhikkumar619/Customer_segmentation_project initialized!]\n",
      "https\n",
      "[2024-07-01 06:58:07,369 : WARNING : connectionpool : Retrying (Retry(total=4, connect=5, read=4, redirect=5, status=5)) after connection broken by 'ReadTimeoutError(\"HTTPSConnectionPool(host='dagshub.com', port=443): Read timed out. (read timeout=120)\")': /Abhikkumar619/Customer_segmentation_project.mlflow/api/2.0/mlflow/runs/create]\n"
     ]
    },
    {
     "name": "stderr",
     "output_type": "stream",
     "text": [
      "Registered model 'ml_model' already exists. Creating a new version of this model...\n",
      "2024/07/01 06:58:15 INFO mlflow.tracking._model_registry.client: Waiting up to 300 seconds for model version to finish creation.                     Model name: ml_model, version 2\n",
      "Created version '2' of model 'ml_model'.\n"
     ]
    }
   ],
   "source": [
    "try: \n",
    "    configmanager=configurationManager()\n",
    "    evaluation_config=configmanager.get_model_evaluation_config()\n",
    "    model_evaluation=ModelEvaluation(evaluation_config)\n",
    "    model_evaluation.inititate_model_evaluation()\n",
    "    \n",
    "except Exception as e:\n",
    "    \n",
    "    raise e"
   ]
  },
  {
   "cell_type": "code",
   "execution_count": null,
   "metadata": {},
   "outputs": [],
   "source": []
  }
 ],
 "metadata": {
  "kernelspec": {
   "display_name": "Python 3",
   "language": "python",
   "name": "python3"
  },
  "language_info": {
   "codemirror_mode": {
    "name": "ipython",
    "version": 3
   },
   "file_extension": ".py",
   "mimetype": "text/x-python",
   "name": "python",
   "nbconvert_exporter": "python",
   "pygments_lexer": "ipython3",
   "version": "3.8.19"
  }
 },
 "nbformat": 4,
 "nbformat_minor": 2
}
